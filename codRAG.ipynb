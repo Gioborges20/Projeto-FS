{
 "cells": [
  {
   "cell_type": "code",
   "execution_count": 1,
   "id": "92232e28-f666-49fc-98f0-757cca6985a3",
   "metadata": {
    "ExecuteTime": {
     "end_time": "2025-06-30T23:26:05.635981Z",
     "start_time": "2025-06-30T23:12:59.664518Z"
    }
   },
   "outputs": [
    {
     "name": "stdout",
     "output_type": "stream",
     "text": [
      "Requirement already satisfied: pip in c:\\users\\hanna\\appdata\\local\\programs\\python\\python313\\lib\\site-packages (25.1.1)\n",
      "Note: you may need to restart the kernel to use updated packages.\n",
      "Requirement already satisfied: langchain in c:\\users\\hanna\\appdata\\local\\programs\\python\\python313\\lib\\site-packages (0.3.26)\n",
      "Requirement already satisfied: langchain-core<1.0.0,>=0.3.66 in c:\\users\\hanna\\appdata\\local\\programs\\python\\python313\\lib\\site-packages (from langchain) (0.3.67)\n",
      "Requirement already satisfied: langchain-text-splitters<1.0.0,>=0.3.8 in c:\\users\\hanna\\appdata\\local\\programs\\python\\python313\\lib\\site-packages (from langchain) (0.3.8)\n",
      "Requirement already satisfied: langsmith>=0.1.17 in c:\\users\\hanna\\appdata\\local\\programs\\python\\python313\\lib\\site-packages (from langchain) (0.3.45)\n",
      "Requirement already satisfied: pydantic<3.0.0,>=2.7.4 in c:\\users\\hanna\\appdata\\local\\programs\\python\\python313\\lib\\site-packages (from langchain) (2.11.5)\n",
      "Requirement already satisfied: SQLAlchemy<3,>=1.4 in c:\\users\\hanna\\appdata\\local\\programs\\python\\python313\\lib\\site-packages (from langchain) (2.0.41)\n",
      "Requirement already satisfied: requests<3,>=2 in c:\\users\\hanna\\appdata\\local\\programs\\python\\python313\\lib\\site-packages (from langchain) (2.32.3)\n",
      "Requirement already satisfied: PyYAML>=5.3 in c:\\users\\hanna\\appdata\\local\\programs\\python\\python313\\lib\\site-packages (from langchain) (6.0.2)\n",
      "Requirement already satisfied: tenacity!=8.4.0,<10.0.0,>=8.1.0 in c:\\users\\hanna\\appdata\\local\\programs\\python\\python313\\lib\\site-packages (from langchain-core<1.0.0,>=0.3.66->langchain) (9.1.2)\n",
      "Requirement already satisfied: jsonpatch<2.0,>=1.33 in c:\\users\\hanna\\appdata\\local\\programs\\python\\python313\\lib\\site-packages (from langchain-core<1.0.0,>=0.3.66->langchain) (1.33)\n",
      "Requirement already satisfied: packaging<25,>=23.2 in c:\\users\\hanna\\appdata\\local\\programs\\python\\python313\\lib\\site-packages (from langchain-core<1.0.0,>=0.3.66->langchain) (24.2)\n",
      "Requirement already satisfied: typing-extensions>=4.7 in c:\\users\\hanna\\appdata\\local\\programs\\python\\python313\\lib\\site-packages (from langchain-core<1.0.0,>=0.3.66->langchain) (4.14.0)\n",
      "Requirement already satisfied: jsonpointer>=1.9 in c:\\users\\hanna\\appdata\\local\\programs\\python\\python313\\lib\\site-packages (from jsonpatch<2.0,>=1.33->langchain-core<1.0.0,>=0.3.66->langchain) (3.0.0)\n",
      "Requirement already satisfied: annotated-types>=0.6.0 in c:\\users\\hanna\\appdata\\local\\programs\\python\\python313\\lib\\site-packages (from pydantic<3.0.0,>=2.7.4->langchain) (0.7.0)\n",
      "Requirement already satisfied: pydantic-core==2.33.2 in c:\\users\\hanna\\appdata\\local\\programs\\python\\python313\\lib\\site-packages (from pydantic<3.0.0,>=2.7.4->langchain) (2.33.2)\n",
      "Requirement already satisfied: typing-inspection>=0.4.0 in c:\\users\\hanna\\appdata\\local\\programs\\python\\python313\\lib\\site-packages (from pydantic<3.0.0,>=2.7.4->langchain) (0.4.1)\n",
      "Requirement already satisfied: charset-normalizer<4,>=2 in c:\\users\\hanna\\appdata\\local\\programs\\python\\python313\\lib\\site-packages (from requests<3,>=2->langchain) (3.4.2)\n",
      "Requirement already satisfied: idna<4,>=2.5 in c:\\users\\hanna\\appdata\\local\\programs\\python\\python313\\lib\\site-packages (from requests<3,>=2->langchain) (3.10)\n",
      "Requirement already satisfied: urllib3<3,>=1.21.1 in c:\\users\\hanna\\appdata\\local\\programs\\python\\python313\\lib\\site-packages (from requests<3,>=2->langchain) (2.4.0)\n",
      "Requirement already satisfied: certifi>=2017.4.17 in c:\\users\\hanna\\appdata\\local\\programs\\python\\python313\\lib\\site-packages (from requests<3,>=2->langchain) (2025.4.26)\n",
      "Requirement already satisfied: greenlet>=1 in c:\\users\\hanna\\appdata\\local\\programs\\python\\python313\\lib\\site-packages (from SQLAlchemy<3,>=1.4->langchain) (3.2.3)\n",
      "Requirement already satisfied: httpx<1,>=0.23.0 in c:\\users\\hanna\\appdata\\local\\programs\\python\\python313\\lib\\site-packages (from langsmith>=0.1.17->langchain) (0.28.1)\n",
      "Requirement already satisfied: orjson<4.0.0,>=3.9.14 in c:\\users\\hanna\\appdata\\local\\programs\\python\\python313\\lib\\site-packages (from langsmith>=0.1.17->langchain) (3.10.18)\n",
      "Requirement already satisfied: requests-toolbelt<2.0.0,>=1.0.0 in c:\\users\\hanna\\appdata\\local\\programs\\python\\python313\\lib\\site-packages (from langsmith>=0.1.17->langchain) (1.0.0)\n",
      "Requirement already satisfied: zstandard<0.24.0,>=0.23.0 in c:\\users\\hanna\\appdata\\local\\programs\\python\\python313\\lib\\site-packages (from langsmith>=0.1.17->langchain) (0.23.0)\n",
      "Requirement already satisfied: anyio in c:\\users\\hanna\\appdata\\local\\programs\\python\\python313\\lib\\site-packages (from httpx<1,>=0.23.0->langsmith>=0.1.17->langchain) (4.9.0)\n",
      "Requirement already satisfied: httpcore==1.* in c:\\users\\hanna\\appdata\\local\\programs\\python\\python313\\lib\\site-packages (from httpx<1,>=0.23.0->langsmith>=0.1.17->langchain) (1.0.9)\n",
      "Requirement already satisfied: h11>=0.16 in c:\\users\\hanna\\appdata\\local\\programs\\python\\python313\\lib\\site-packages (from httpcore==1.*->httpx<1,>=0.23.0->langsmith>=0.1.17->langchain) (0.16.0)\n",
      "Requirement already satisfied: sniffio>=1.1 in c:\\users\\hanna\\appdata\\local\\programs\\python\\python313\\lib\\site-packages (from anyio->httpx<1,>=0.23.0->langsmith>=0.1.17->langchain) (1.3.1)\n",
      "Note: you may need to restart the kernel to use updated packages.\n",
      "Note: you may need to restart the kernel to use updated packages.\n",
      "Note: you may need to restart the kernel to use updated packages.\n",
      "Note: you may need to restart the kernel to use updated packages.\n",
      "Requirement already satisfied: sentence-transformers in c:\\users\\hanna\\appdata\\local\\programs\\python\\python313\\lib\\site-packages (4.1.0)\n",
      "Requirement already satisfied: transformers<5.0.0,>=4.41.0 in c:\\users\\hanna\\appdata\\local\\programs\\python\\python313\\lib\\site-packages (from sentence-transformers) (4.53.0)\n",
      "Requirement already satisfied: tqdm in c:\\users\\hanna\\appdata\\local\\programs\\python\\python313\\lib\\site-packages (from sentence-transformers) (4.67.1)\n",
      "Requirement already satisfied: torch>=1.11.0 in c:\\users\\hanna\\appdata\\local\\programs\\python\\python313\\lib\\site-packages (from sentence-transformers) (2.7.1)\n",
      "Requirement already satisfied: scikit-learn in c:\\users\\hanna\\appdata\\local\\programs\\python\\python313\\lib\\site-packages (from sentence-transformers) (1.7.0)\n",
      "Requirement already satisfied: scipy in c:\\users\\hanna\\appdata\\local\\programs\\python\\python313\\lib\\site-packages (from sentence-transformers) (1.16.0)\n",
      "Requirement already satisfied: huggingface-hub>=0.20.0 in c:\\users\\hanna\\appdata\\local\\programs\\python\\python313\\lib\\site-packages (from sentence-transformers) (0.33.0)\n",
      "Requirement already satisfied: Pillow in c:\\users\\hanna\\appdata\\local\\programs\\python\\python313\\lib\\site-packages (from sentence-transformers) (11.3.0)\n",
      "Requirement already satisfied: typing_extensions>=4.5.0 in c:\\users\\hanna\\appdata\\local\\programs\\python\\python313\\lib\\site-packages (from sentence-transformers) (4.14.0)\n",
      "Requirement already satisfied: filelock in c:\\users\\hanna\\appdata\\local\\programs\\python\\python313\\lib\\site-packages (from transformers<5.0.0,>=4.41.0->sentence-transformers) (3.18.0)\n",
      "Requirement already satisfied: numpy>=1.17 in c:\\users\\hanna\\appdata\\local\\programs\\python\\python313\\lib\\site-packages (from transformers<5.0.0,>=4.41.0->sentence-transformers) (2.2.6)\n",
      "Requirement already satisfied: packaging>=20.0 in c:\\users\\hanna\\appdata\\local\\programs\\python\\python313\\lib\\site-packages (from transformers<5.0.0,>=4.41.0->sentence-transformers) (24.2)\n",
      "Requirement already satisfied: pyyaml>=5.1 in c:\\users\\hanna\\appdata\\local\\programs\\python\\python313\\lib\\site-packages (from transformers<5.0.0,>=4.41.0->sentence-transformers) (6.0.2)\n",
      "Requirement already satisfied: regex!=2019.12.17 in c:\\users\\hanna\\appdata\\local\\programs\\python\\python313\\lib\\site-packages (from transformers<5.0.0,>=4.41.0->sentence-transformers) (2024.11.6)\n",
      "Requirement already satisfied: requests in c:\\users\\hanna\\appdata\\local\\programs\\python\\python313\\lib\\site-packages (from transformers<5.0.0,>=4.41.0->sentence-transformers) (2.32.3)\n",
      "Requirement already satisfied: tokenizers<0.22,>=0.21 in c:\\users\\hanna\\appdata\\local\\programs\\python\\python313\\lib\\site-packages (from transformers<5.0.0,>=4.41.0->sentence-transformers) (0.21.1)\n",
      "Requirement already satisfied: safetensors>=0.4.3 in c:\\users\\hanna\\appdata\\local\\programs\\python\\python313\\lib\\site-packages (from transformers<5.0.0,>=4.41.0->sentence-transformers) (0.5.3)\n",
      "Requirement already satisfied: fsspec>=2023.5.0 in c:\\users\\hanna\\appdata\\local\\programs\\python\\python313\\lib\\site-packages (from huggingface-hub>=0.20.0->sentence-transformers) (2025.5.1)\n",
      "Requirement already satisfied: sympy>=1.13.3 in c:\\users\\hanna\\appdata\\local\\programs\\python\\python313\\lib\\site-packages (from torch>=1.11.0->sentence-transformers) (1.14.0)\n",
      "Requirement already satisfied: networkx in c:\\users\\hanna\\appdata\\local\\programs\\python\\python313\\lib\\site-packages (from torch>=1.11.0->sentence-transformers) (3.5)\n",
      "Requirement already satisfied: jinja2 in c:\\users\\hanna\\appdata\\local\\programs\\python\\python313\\lib\\site-packages (from torch>=1.11.0->sentence-transformers) (3.1.6)\n",
      "Requirement already satisfied: setuptools in c:\\users\\hanna\\appdata\\local\\programs\\python\\python313\\lib\\site-packages (from torch>=1.11.0->sentence-transformers) (80.9.0)\n",
      "Requirement already satisfied: mpmath<1.4,>=1.1.0 in c:\\users\\hanna\\appdata\\local\\programs\\python\\python313\\lib\\site-packages (from sympy>=1.13.3->torch>=1.11.0->sentence-transformers) (1.3.0)\n",
      "Requirement already satisfied: colorama in c:\\users\\hanna\\appdata\\local\\programs\\python\\python313\\lib\\site-packages (from tqdm->sentence-transformers) (0.4.6)\n",
      "Requirement already satisfied: MarkupSafe>=2.0 in c:\\users\\hanna\\appdata\\local\\programs\\python\\python313\\lib\\site-packages (from jinja2->torch>=1.11.0->sentence-transformers) (3.0.2)\n",
      "Requirement already satisfied: charset-normalizer<4,>=2 in c:\\users\\hanna\\appdata\\local\\programs\\python\\python313\\lib\\site-packages (from requests->transformers<5.0.0,>=4.41.0->sentence-transformers) (3.4.2)\n",
      "Requirement already satisfied: idna<4,>=2.5 in c:\\users\\hanna\\appdata\\local\\programs\\python\\python313\\lib\\site-packages (from requests->transformers<5.0.0,>=4.41.0->sentence-transformers) (3.10)\n",
      "Requirement already satisfied: urllib3<3,>=1.21.1 in c:\\users\\hanna\\appdata\\local\\programs\\python\\python313\\lib\\site-packages (from requests->transformers<5.0.0,>=4.41.0->sentence-transformers) (2.4.0)\n",
      "Requirement already satisfied: certifi>=2017.4.17 in c:\\users\\hanna\\appdata\\local\\programs\\python\\python313\\lib\\site-packages (from requests->transformers<5.0.0,>=4.41.0->sentence-transformers) (2025.4.26)\n",
      "Requirement already satisfied: joblib>=1.2.0 in c:\\users\\hanna\\appdata\\local\\programs\\python\\python313\\lib\\site-packages (from scikit-learn->sentence-transformers) (1.5.1)\n",
      "Requirement already satisfied: threadpoolctl>=3.1.0 in c:\\users\\hanna\\appdata\\local\\programs\\python\\python313\\lib\\site-packages (from scikit-learn->sentence-transformers) (3.6.0)\n",
      "Note: you may need to restart the kernel to use updated packages.\n",
      "Note: you may need to restart the kernel to use updated packages.\n",
      "Note: you may need to restart the kernel to use updated packages.\n",
      "Requirement already satisfied: hf_xet in c:\\users\\hanna\\appdata\\local\\programs\\python\\python313\\lib\\site-packages (1.1.5)\n",
      "Note: you may need to restart the kernel to use updated packages.\n",
      "Note: you may need to restart the kernel to use updated packages.\n"
     ]
    },
    {
     "name": "stderr",
     "output_type": "stream",
     "text": [
      "ERROR: pip's dependency resolver does not currently take into account all the packages that are installed. This behaviour is the source of the following dependency conflicts.\n",
      "grpcio-status 1.72.1 requires protobuf<7.0.0,>=6.30.0, but you have protobuf 5.29.5 which is incompatible.\n"
     ]
    }
   ],
   "source": [
    "%pip install --upgrade pip \n",
    "%pip install -U langchain  \n",
    "%pip install --quiet --upgrade langchain-text-splitters langchain-community langgraph  \n",
    "%pip install -qU \"langchain[mistralai]\" \n",
    "%pip install -qU langchain-huggingface\n",
    "%pip install sentence-transformers\n",
    "%pip install -qU langchain-core\n",
    "%pip install -qU langchain_community pypdf pillow\n",
    "%pip install hf_xet\n",
    "%pip install -qU langchain-chroma"
   ]
  },
  {
   "cell_type": "markdown",
   "id": "0137f8e4-ce47-4172-8ee8-7d192410eee9",
   "metadata": {},
   "source": [
    "INDEXING"
   ]
  },
  {
   "cell_type": "code",
   "execution_count": 15,
   "id": "7ca185d467ce0d59",
   "metadata": {
    "ExecuteTime": {
     "end_time": "2025-06-30T22:32:17.095818Z",
     "start_time": "2025-06-30T22:32:17.091039Z"
    }
   },
   "outputs": [],
   "source": [
    "import getpass\n",
    "import os\n",
    "os.environ[\"ANONYMIZED_TELEMETRY\"] = \"FALSE\"\n",
    "from langchain.chat_models import init_chat_model\n",
    "from langchain_huggingface import HuggingFaceEmbeddings\n",
    "from langchain_chroma import Chroma\n",
    "from langchain_community.document_loaders import PyPDFDirectoryLoader\n",
    "from langchain_text_splitters import RecursiveCharacterTextSplitter\n",
    "from langchain_core.prompts import PromptTemplate\n",
    "from langchain_core.documents import Document\n",
    "from typing import NamedTuple, Tuple\n",
    "from langgraph.graph import START, StateGraph\n",
    "from dotenv import load_dotenv,find_dotenv"
   ]
  },
  {
   "cell_type": "code",
   "execution_count": 3,
   "id": "f612dd9b-ad9b-4a98-bbb9-0447ecba22ab",
   "metadata": {
    "ExecuteTime": {
     "end_time": "2025-06-30T22:46:50.764584Z",
     "start_time": "2025-06-30T22:46:47.211816Z"
    }
   },
   "outputs": [],
   "source": [
    "# Langsmith e os e getpass para lidar com as chaves de api do .env\n",
    "load_dotenv(find_dotenv())  # Encontrar e carregar o documento .env que contém as chaves de api\n",
    "\n",
    "os.environ[\"LANGSMITH_TRACING\"] = \"true\"\n",
    "if not os.environ.get(\"LANGSMITH_API_KEY\"):\n",
    "    os.environ[\"LANGSMITH_API_KEY\"] = getpass.getpass(\"Enter API key fot langsmith: \") # Se a chave de api não for encontrada o usuário deve inserir"
   ]
  },
  {
   "cell_type": "code",
   "execution_count": 4,
   "id": "5c51b92e-83f0-435d-b3c6-4adf0b04d934",
   "metadata": {
    "ExecuteTime": {
     "end_time": "2025-06-30T23:10:01.780171Z",
     "start_time": "2025-06-30T23:10:00.949797Z"
    }
   },
   "outputs": [],
   "source": [
    "# Modelo de chat utilizado foi o mistral small, modelo open source da mistral ai\n",
    "if not os.environ.get(\"MISTRAL_API_KEY\"):\n",
    "  os.environ[\"MISTRAL_API_KEY\"] = getpass.getpass(\"Enter API key for Mistral AI: \") # Se a chave não for encontrada o usuário deve inserir\n",
    "\n",
    "llm = init_chat_model(\"mistral-small-2503\", model_provider = \"mistralai\") # Modelo de chat utilizado para a aplicação"
   ]
  },
  {
   "cell_type": "code",
   "execution_count": 5,
   "id": "11d7f531-73b1-442b-92a5-9c533c8b246a",
   "metadata": {
    "ExecuteTime": {
     "end_time": "2025-06-30T23:31:54.606464Z",
     "start_time": "2025-06-30T23:30:17.041703Z"
    },
    "scrolled": true
   },
   "outputs": [],
   "source": [
    "# Embedding model open-source do huggingface\n",
    "embeddings = HuggingFaceEmbeddings(model_name = \"sentence-transformers/all-mpnet-base-v2\")"
   ]
  },
  {
   "cell_type": "code",
   "execution_count": 6,
   "id": "ec76efa7-f47f-4a37-94f6-def3bd8fc71d",
   "metadata": {},
   "outputs": [
    {
     "name": "stderr",
     "output_type": "stream",
     "text": [
      "Failed to send telemetry event ClientStartEvent: capture() takes 1 positional argument but 3 were given\n",
      "Failed to send telemetry event ClientCreateCollectionEvent: capture() takes 1 positional argument but 3 were given\n"
     ]
    }
   ],
   "source": [
    "# Vector store chroma, database por diretório\n",
    "vector_store = Chroma( \n",
    "    collection_name=\"exames_extraidos\",\n",
    "    embedding_function=embeddings,\n",
    "    persist_directory=\"C:/JupyterNotebook/RAG/rag_chroma_db\",  # Caminho do diretório que vai conter os embeddings\n",
    ")"
   ]
  },
  {
   "cell_type": "code",
   "execution_count": 7,
   "id": "a6bee90f-9e81-4de9-81a2-3c687a78b9f4",
   "metadata": {},
   "outputs": [],
   "source": [
    "# Carregando documentos em pdf por diretório\n",
    "directory_path = (\n",
    "    \"C:/JupyterNotebook/RAG/RAG_exames\"\n",
    ")\n",
    "loader = PyPDFDirectoryLoader(\"RAG_exames/\")\n",
    "\n",
    "docs = loader.load() # Carrega os documentos que o RAG vai usar"
   ]
  },
  {
   "cell_type": "code",
   "execution_count": 8,
   "id": "44a45c7a-5050-4b11-997b-13a72eb78526",
   "metadata": {},
   "outputs": [],
   "source": [
    "# Dividindo os documento em chunks para fazer os embeddings\n",
    "text_splitter = RecursiveCharacterTextSplitter(  # Divide os documentos em chunks para ser feito o embedding e guardar na base de dados\n",
    "    chunk_size=1000,  # tamanho do chunk (caracteres)\n",
    "    chunk_overlap=200,  # overlap do chunk (caracteres)\n",
    "    add_start_index=True,  # acompanhar o indice do documento original\n",
    ")\n",
    "all_splits = text_splitter.split_documents(docs)"
   ]
  },
  {
   "cell_type": "code",
   "execution_count": 9,
   "id": "601b04f0-f241-4dfa-9877-864c7f44bef3",
   "metadata": {},
   "outputs": [],
   "source": [
    "# Storing documents\n",
    "document_ids = vector_store.add_documents(documents=all_splits) # Coloca os documentos no vetor"
   ]
  },
  {
   "cell_type": "markdown",
   "id": "80349158-de62-4f53-8733-102304f806d3",
   "metadata": {},
   "source": [
    "INICIO DO RETRIEVAL E GENERATION"
   ]
  },
  {
   "cell_type": "code",
   "execution_count": 10,
   "id": "f73a7927-d6b1-4654-9d81-d3f447136507",
   "metadata": {},
   "outputs": [],
   "source": [
    "# Prompt\n",
    "template = \"\"\"Você é um especialista em análise de relatórios de mamografia. Por favor, leia o relatório quando indicado e extraia as seguintes informações:\n",
    "Cisto:\n",
    "- Presente ou Ausente\n",
    "- Localização e tamanho do cisto\n",
    "Nódulo:\n",
    "- Presente ou Ausente\n",
    "- Localização e tamanho do nódulo\n",
    "Calcificação:\n",
    "- Presente ou Ausente\n",
    "- Localização e tamanho da calcificação\n",
    "Microcalcificação:\n",
    "- Presente ou Ausente\n",
    "- Localização e tamanho da microcalcificação\n",
    "BI-RADS: [valor]\n",
    "Outras citações a avaliar: [observações adicionais relevantes]\n",
    "\n",
    "Caso não encontre alguma informação que se encaixe, coloque [sem referência no texto].\n",
    "\n",
    "Diretrizes de Interpretação\n",
    "\n",
    "Diferenciação entre Nódulo e Cisto:\n",
    "\n",
    "Se um achado é identificado inicialmente como \"nódulo\" na mamografia, mas confirmado como \"cisto\" no ultrassom, classifique apenas como CISTO (presente).\n",
    "Nódulos são estruturas sólidas; cistos são estruturas predominantemente líquidas.\n",
    "Complexos sólido-císticos devem ser reportados em ambas categorias (nódulo E cisto).\n",
    "\n",
    "\n",
    "Priorização de Achados Múltiplos:\n",
    "\n",
    "Quando houver múltiplos cistos/nódulos, reporte TODOS, priorizando:\n",
    "a) Achados classificados como suspeitos pelo relatório\n",
    "b) Achados de maior tamanho\n",
    "c) Achados com características atípicas mencionadas\n",
    "\n",
    "\n",
    "Diferenciação entre Calcificações e Microcalcificações:\n",
    "\n",
    "Calcificações: estruturas maiores, geralmente descritas como \"grosseiras\", \"distróficas\", \"vasculares\"\n",
    "Microcalcificações: estruturas menores, frequentemente descritas como \"puntiformes\", \"pleomórficas\", \"lineares\", \"agrupadas\", \"em cluster\"\n",
    "Se o relatório mencionar \"microcalcificações\", classifique especificamente como microcalcificações\n",
    "Se mencionar apenas \"calcificações\", classifique como calcificações.\n",
    "\n",
    "{context}\n",
    "\n",
    "Question: {question}\n",
    "\n",
    "Helpful Answer:\"\"\"\n",
    "custom_rag_prompt = PromptTemplate.from_template(template)"
   ]
  },
  {
   "cell_type": "code",
   "execution_count": 11,
   "id": "754230c01b5fb7d4",
   "metadata": {},
   "outputs": [],
   "source": [
    "# estado para o langgraph\n",
    "class State(NamedTuple):  # Informações que o pipeline vai carregar de um nó para o outro. Facilita leitura, manutenção e evita bugs\n",
    "    question: str  # Pergunta feita pelo usuário\n",
    "    context: Tuple[Document, ...] # Contexto recuperado da base de dados\n",
    "    answer: str  # Resposta gerada pela llm"
   ]
  },
  {
   "cell_type": "code",
   "execution_count": 12,
   "id": "f3ccb811c0b2d3c7",
   "metadata": {},
   "outputs": [],
   "source": [
    "# Funções do rag\n",
    "def retrieve(state: State):  # Recupera nos documentos dados parecidos com os inputados\n",
    "    retrieved_docs = vector_store.similarity_search(state.question) # Faz uma comparação da pergunta com os dados no vetor e recupera os mais parecidos\n",
    "    return State(\n",
    "        question=state.question, \n",
    "        context=tuple(retrieved_docs), # Usamos tuple em vez de lista por ser um estrutura imutável, o que facilita o uso do LangGraph\n",
    "        answer=state.answer\n",
    "    )\n",
    "\n",
    "def generate(state: State):  # Gera uma resposta com a adição das informações encontradas no vetor\n",
    "    docs_content = \"\\n\\n\".join(doc.page_content for doc in state.context)\n",
    "    messages = custom_rag_prompt.invoke({\"question\": state.question, \"context\": docs_content})\n",
    "    response = llm.invoke(messages)\n",
    "    return State(\n",
    "        question=state.question,\n",
    "        context=state.context,\n",
    "        answer=response.content\n",
    "    )"
   ]
  },
  {
   "cell_type": "code",
   "execution_count": 13,
   "id": "c3ae2304570507f4",
   "metadata": {},
   "outputs": [],
   "source": [
    "# O LangGraph vai garantir que cada etapa (nó) do fluxo receba e devolva um objeto do tipo State\n",
    "graph_builder = StateGraph(State).add_sequence([retrieve, generate])\n",
    "graph_builder.add_edge(START, \"retrieve\")\n",
    "graph = graph_builder.compile()"
   ]
  },
  {
   "cell_type": "code",
   "execution_count": 14,
   "id": "f593be6c-44f5-474c-b515-a2466e871e02",
   "metadata": {},
   "outputs": [
    {
     "name": "stderr",
     "output_type": "stream",
     "text": [
      "Failed to send telemetry event CollectionQueryEvent: capture() takes 1 positional argument but 3 were given\n"
     ]
    },
    {
     "name": "stdout",
     "output_type": "stream",
     "text": [
      "### Extração das Características do Exame Mamográfico\n",
      "\n",
      "**Cisto:**\n",
      "- **Presente ou Ausente:** Presente\n",
      "- **Localização e tamanho do cisto:** Cisto oleoso na mama esquerda (tamanho não especificado)\n",
      "\n",
      "**Nódulo:**\n",
      "- **Presente ou Ausente:** Presente\n",
      "- **Localização e tamanho do nódulo:** Nódulo denso de contornos espiculados projetado no quadrante súpero-externo (QSE) da mama esquerda (tamanho não especificado)\n",
      "\n",
      "**Calcificação:**\n",
      "- **Presente ou Ausente:** Presente\n",
      "- **Localização e tamanho da calcificação:** Calcificações esparsas (localização e tamanho não especificados)\n",
      "\n",
      "**Microcalcificação:**\n",
      "- **Presente ou Ausente:** Ausente\n",
      "- **Localização e tamanho da microcalcificação:** [sem referência no texto]\n",
      "\n",
      "**BI-RADS:** 5\n",
      "\n",
      "**Outras citações a avaliar:**\n",
      "- Alterações arquiteturais relacionadas à mamoplastia.\n",
      "- Retração cutânea associada ao nódulo na mama esquerda.\n",
      "- Implante bilateral sem sinais de roturas extracapsulares.\n",
      "- Linfonodo axilar de aspecto reacional.\n",
      "- Status pós cirurgia conservadora da mama esquerda.\n",
      "- Parênquima mamário heterogeneamente denso, o que reduz a sensibilidade da mamografia.\n",
      "- Ausência de microcalcificações pleomórficas agrupadas ou ramificadas.\n",
      "- Nódulo maior em relação ao exame de 01/2024, sugerindo necessidade de core biopsy.\n"
     ]
    }
   ],
   "source": [
    "state_inicial = State(  # Estado incial da aplicação necessário por causa do uso de tuple\n",
    "    question=\"\"\"Faça a extração das característica do seguinte exame mamográfico.\n",
    "\n",
    "MAMOGRAFIA DIGITAL DR* BILATERAL\n",
    "\n",
    "Indicação clínica: 69 anos. Rotina. Antecedente de neoplasia mamária.\n",
    "\n",
    "Exame com MAMÓGRAFO DIGITAL nas incidências craniocaudal e mediolateral oblíqua acrescido de incidências em ambas projeções obtidas com manobras de deslocamento posterior dos implantes mamários.\n",
    "\n",
    "Status pós cirurgia conservadora da mama esquerda.\n",
    "Parênquima mamário heterogeneamente denso, o que reduz a sensibilidade da mamografia.\n",
    "Alterações arquiteturais, relacionadas à mamoplastia.\n",
    "Nódulo denso de contornos espiculados projetado no QSE da mama esquerda, associado a retração cutânea,\n",
    "com correspondência ao ultrassom, maior em relação ao exame de 01/2024. Prosseguir com core biopsy.\n",
    "Cisto oleoso na mama esquerda.\n",
    "Calcificações esparsas.\n",
    "Ausência de microcalcificações pleomórficas agrupadas ou ramificadas.\n",
    "Implante bilateral, sem sinais de roturas extracapsulares.\n",
    "Linfonodo axilar, de aspecto reacional.\n",
    "\n",
    "ACR-BIRADS® categoria 5.\"\"\",\n",
    "    context=tuple([]),\n",
    "    answer=\" \"\n",
    ")\n",
    "\n",
    "response = graph.invoke(state_inicial)\n",
    "print(response[\"answer\"])"
   ]
  },
  {
   "cell_type": "code",
   "execution_count": 16,
   "id": "17c8b959-750d-4e32-af93-77c4bd64cdcd",
   "metadata": {},
   "outputs": [
    {
     "name": "stdout",
     "output_type": "stream",
     "text": [
      "Context: (Document(id='351cfe28-d1b7-4666-9941-edce3f3d9ca6', metadata={'start_index': 0, 'total_pages': 1, 'moddate': '2025-06-28T19:39:27-03:00', 'page_label': '1', 'author': 'Hanna Reckziegel', 'creationdate': '2025-06-28T19:39:27-03:00', 'producer': 'Microsoft® Word 2013', 'creator': 'Microsoft® Word 2013', 'source': 'RAG_exames\\\\laudo_2_extraido.pdf', 'page': 0}, page_content='MAMOGRAFIA DIGITAL (DR) E ECOGRAFIA MAMÁRIA \\nMamas simétricas constituídas predominantemente por tecido fibroglandular. \\nAusência de microcalcificações suspeitas nas mamas. \\nNo presente exame não há evidência de imagem com aspecto de nódulo ou \\ncisto nas mamas. \\nNão se observa imagem sugestiva de neoplasia. \\nLinfonodos localizados nos prolongamentos axilares das mamas. \\nA comparação com o exame anterior datado de 16.01.2017 demonstra não ter \\ncorrido alteração significativa. \\n \\nBIRADS - 1 (exame normais). \\n \\nEXTRAÇÃO: \\n \\nCisto:  \\n- Presente ou Ausente: ausente \\n- Localização do cisto e tamanho do cisto: [sem referência no texto] \\n \\n \\nNódulo: \\n- Presente ou Ausente: ausente \\n- Localização e tamanho do nódulo: [sem referência no texto] \\n \\nCalcificação: \\n- Presente ou Ausente: ausente \\n- Localização e tamanho da calcificação: [sem referência no texto] \\n \\nMicrocalcificação: \\n- Presente ou Ausente: ausente \\n- Localização e localização da microcalcificação: [sem referência no texto]'), Document(id='58c6754f-27b1-460b-a20b-b0ae21b08e4a', metadata={'total_pages': 2, 'author': 'Hanna Reckziegel', 'moddate': '2025-06-28T19:52:38-03:00', 'producer': 'Microsoft® Word 2013', 'page': 0, 'creator': 'Microsoft® Word 2013', 'start_index': 0, 'source': 'RAG_exames\\\\laudo_5_extraido.pdf', 'creationdate': '2025-06-28T19:52:38-03:00', 'page_label': '1'}, page_content='MAMOGRAFIA DIGITAL \\n \\nCorpos mamários predominantemente lipossubstituídos. \\nNo quadrante súpero-lateral da mama direita, existe densidade nodular, de \\ncontornos parcialmente indistintos, medindo cerca de 1,2 cm, a esclarecer. \\nNão há evidência de microcalcificações suspeitas. \\nLinfonodos de aspecto anatômico no prolongamento axilar esquerdo. \\nNão dispomos de exames mamográficos anteriores para correlação. \\n \\nIMPRESSÃO DIAGNÓSTICA: Categoria 0 (zero). \\n \\nFazer correlação com ecografia mamária. \\n \\nECOGRAFIA MAMÁRIA \\n \\nCorpos mamários apresentam estrutura fibroglandular com distribuição e \\necogenicidade usuais. \\nNo quadrante súpero-lateral da mama direita, observa-se nódulo sólido, \\nfortemente hipossônico, irregular e com margens microlobuladas, medindo até \\n2,0 cm no maior eixo e distando cerca de 2,5 cm da papila. \\nNão se identifica nódulo sólido na mama esquerda. \\nExame correlacionado com mamografia de 05/09/2023, onde media cerca de \\n1,2 cm. \\n \\nComentário:'), Document(id='4b527479-aa3c-4e8f-8c0d-5d119dabea2e', metadata={'source': 'RAG_exames\\\\laudo_11_extraido.pdf', 'page': 0, 'page_label': '1', 'creationdate': '2025-06-28T20:20:54-03:00', 'total_pages': 1, 'author': 'Hanna Reckziegel', 'moddate': '2025-06-28T20:20:54-03:00', 'start_index': 0, 'creator': 'Microsoft® Word 2013', 'producer': 'Microsoft® Word 2013'}, page_content='MAMOGRAFIA DIGITAL BILATERAL \\nResumo clínico: rastreamento. \\nEstudo comparativo com mamografia prévia de 06/11/2023 e interpretação em \\nconjunto com ultrassom atual. \\nAs mamas são heterogeneamente densas, o que pode obscurecer pequenos \\nnódulos. \\nCalcificações de aspecto benigno em ambas as glândulas mamárias. \\nNão se observam nódulos ou microcalcificações suspeitos. \\nPresença de linfonodos nas regiões axilares. \\n \\nObservação: Nevus cutâneo na mama direita identificado com marcador \\nmetálico \\n \\nIMPRESSÃO: \\nAchados mamográficos benignos. \\nBI-RADS 2. \\n \\nEXTRAÇÃO: \\n \\nCisto:  \\n- Presente ou Ausente: ausente \\n- Localização do cisto e tamanho do cisto: [sem referência no texto] \\n \\nNódulo: \\n- Presente ou Ausente: ausente \\n- Localização e tamanho do nódulo: [sem referência no texto] \\n \\nCalcificação: \\n- Presente ou Ausente: presente \\n- Localização e tamanho da calcificação: [sem referência no texto] \\n \\nMicrocalcificação: \\n- Presente ou Ausente: ausente'), Document(id='d875f927-7ef2-4c10-b134-80685cdcbc97', metadata={'creator': 'Microsoft® Word 2013', 'creationdate': '2025-06-28T20:27:09-03:00', 'page_label': '1', 'moddate': '2025-06-28T20:27:09-03:00', 'source': 'RAG_exames\\\\laudo_13_extraido.pdf', 'total_pages': 2, 'page': 0, 'author': 'Hanna Reckziegel', 'start_index': 0, 'producer': 'Microsoft® Word 2013'}, page_content='MAMOGRAFIA E ULTRASSONOGRAFIA MAMÁRIA E AXILAR BILATERAL \\nMOTIVO DO EXAME: \\n \\n- Rotina; \\n- Biopsia de nódulo RRA mama DIREITA em 2022 (AP: ectasia ductal cística). \\nNÚMERO DE INCIDÊNCIAS: \\n- O exame de mamografia consiste de 4 incidências. \\nCOMENTÁRIOS: \\n- Parênquima mamário heterogeneamente denso, aspecto que reduz a \\nsensibilidade da mamografia; \\n- Calcificações bilaterais com características de benignidade; \\n- Ao estudo ultrassonográfico, observo imagem cística com conteúdo denso em \\nseu interior, medindo cerca de 2,0 cm em RRA da mama esquerda. mais \\nprovavelmente relacionada a cisto complicado, não podendo descartar \\ncomplexo sólido cístico no estudo atual; \\n- Área hipoecogênica heterogênea, irregular. medindo cerca de 2,4 cm às 12h \\njustareolar da mama direita, que pode estar relacionado a ectasia ductal, porém \\napresenta discreta distorção arquitetural; \\n- Cistos simples e de conteúdo denso esparsos bilateralmente medindo até 1,2 \\ncm; \\n- Linfonodos axilares de aspecto usual;'))\n",
      "\n",
      "\n"
     ]
    }
   ],
   "source": [
    "# Contexto recuperado da base de dados do RAG\n",
    "print(f'Context: {response[\"context\"]}\\n\\n')"
   ]
  },
  {
   "cell_type": "code",
   "execution_count": 17,
   "id": "8eef1dfa-9947-49b5-9e28-9d9f641c99f7",
   "metadata": {},
   "outputs": [
    {
     "data": {
      "image/png": "[encoded data removed]",
      "text/plain": [
       "<IPython.core.display.Image object>"
      ]
     },
     "metadata": {},
     "output_type": "display_data"
    }
   ],
   "source": [
    "# LangGraph pra acompanhar o RAG\n",
    "from IPython.display import Image, display\n",
    "\n",
    "display(Image(graph.get_graph().draw_mermaid_png()))"
   ]
  },
  {
   "cell_type": "code",
   "execution_count": null,
   "id": "69420902-7e85-462d-930c-957ff6d8c942",
   "metadata": {},
   "outputs": [],
   "source": []
  }
 ],
 "metadata": {
  "kernelspec": {
   "display_name": "Python 3 (ipykernel)",
   "language": "python",
   "name": "python3"
  },
  "language_info": {
   "codemirror_mode": {
    "name": "ipython",
    "version": 3
   },
   "file_extension": ".py",
   "mimetype": "text/x-python",
   "name": "python",
   "nbconvert_exporter": "python",
   "pygments_lexer": "ipython3",
   "version": "3.13.2"
  }
 },
 "nbformat": 4,
 "nbformat_minor": 5
}
