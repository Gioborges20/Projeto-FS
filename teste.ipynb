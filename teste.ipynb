{
 "cells": [
  {
   "cell_type": "code",
   "execution_count": null,
   "id": "92232e28-f666-49fc-98f0-757cca6985a3",
   "metadata": {
    "ExecuteTime": {
     "end_time": "2025-06-30T23:26:05.635981Z",
     "start_time": "2025-06-30T23:12:59.664518Z"
    }
   },
   "outputs": [],
   "source": [
    "%pip install --upgrade pip \n",
    "%pip install -U langchain  \n",
    "%pip install --quiet --upgrade langchain-text-splitters langchain-community langgraph  \n",
    "%pip install -qU \"langchain[mistralai]\" \n",
    "%pip install -qU langchain-huggingface\n",
    "%pip install sentence-transformers\n",
    "%pip install -qU langchain-core\n",
    "%pip install -qU langchain_community pypdf pillow\n",
    "%pip install hf_xet"
   ]
  },
  {
   "cell_type": "markdown",
   "id": "0137f8e4-ce47-4172-8ee8-7d192410eee9",
   "metadata": {},
   "source": [
    "INDEXING"
   ]
  },
  {
   "cell_type": "code",
   "execution_count": 36,
   "id": "7ca185d467ce0d59",
   "metadata": {
    "ExecuteTime": {
     "end_time": "2025-06-30T22:32:17.095818Z",
     "start_time": "2025-06-30T22:32:17.091039Z"
    }
   },
   "outputs": [],
   "source": [
    "import getpass\n",
    "import os\n",
    "from langchain.chat_models import init_chat_model\n",
    "from langchain_huggingface import HuggingFaceEmbeddings\n",
    "from langchain_core.vectorstores import InMemoryVectorStore\n",
    "from langchain_community.document_loaders import PyPDFDirectoryLoader\n",
    "from langchain_text_splitters import RecursiveCharacterTextSplitter\n",
    "from langchain_core.prompts import PromptTemplate\n",
    "from langchain_core.documents import Document\n",
    "from typing import NamedTuple, Tuple\n",
    "from langgraph.graph import START, StateGraph\n",
    "from dotenv import load_dotenv,find_dotenv"
   ]
  },
  {
   "cell_type": "code",
   "execution_count": 37,
   "id": "f612dd9b-ad9b-4a98-bbb9-0447ecba22ab",
   "metadata": {
    "ExecuteTime": {
     "end_time": "2025-06-30T22:46:50.764584Z",
     "start_time": "2025-06-30T22:46:47.211816Z"
    }
   },
   "outputs": [
    {
     "name": "stdin",
     "output_type": "stream",
     "text": [
      "Enter API key fot langsmith:  ········\n"
     ]
    }
   ],
   "source": [
    "# langsmith e os e getpass para lidar com as chaves de api\n",
    "load_dotenv(find_dotenv())\n",
    "\n",
    "os.environ[\"LANGSMITH_TRACING\"] = \"true\"\n",
    "os.environ[\"LANGSMITH_API_KEY\"] = getpass.getpass(\"Enter API key fot langsmith: \")"
   ]
  },
  {
   "cell_type": "code",
   "execution_count": 38,
   "id": "5c51b92e-83f0-435d-b3c6-4adf0b04d934",
   "metadata": {
    "ExecuteTime": {
     "end_time": "2025-06-30T23:10:01.780171Z",
     "start_time": "2025-06-30T23:10:00.949797Z"
    }
   },
   "outputs": [],
   "source": [
    "# chat model\n",
    "if not os.environ.get(\"MISTRAL_API_KEY\"):\n",
    "  os.environ[\"MISTRAL_API_KEY\"] = getpass.getpass(\"Enter API key for Mistral AI: \")\n",
    "\n",
    "llm = init_chat_model(\"mistral-small-2503\", model_provider = \"mistralai\")"
   ]
  },
  {
   "cell_type": "code",
   "execution_count": 39,
   "id": "11d7f531-73b1-442b-92a5-9c533c8b246a",
   "metadata": {
    "ExecuteTime": {
     "end_time": "2025-06-30T23:31:54.606464Z",
     "start_time": "2025-06-30T23:30:17.041703Z"
    },
    "scrolled": true
   },
   "outputs": [],
   "source": [
    "# embedding model\n",
    "embeddings = HuggingFaceEmbeddings(model_name = \"sentence-transformers/all-mpnet-base-v2\")"
   ]
  },
  {
   "cell_type": "code",
   "execution_count": 40,
   "id": "ec76efa7-f47f-4a37-94f6-def3bd8fc71d",
   "metadata": {},
   "outputs": [],
   "source": [
    "# vector in-memory\n",
    "vector_store = InMemoryVectorStore(embeddings)"
   ]
  },
  {
   "cell_type": "code",
   "execution_count": 41,
   "id": "a6bee90f-9e81-4de9-81a2-3c687a78b9f4",
   "metadata": {},
   "outputs": [],
   "source": [
    "# Loading documents em pdf\n",
    "directory_path = (\n",
    "    \"C:/JupyterNotebook/RAG/RAG_exames\"\n",
    ")\n",
    "loader = PyPDFDirectoryLoader(\"RAG_exames/\")\n",
    "\n",
    "docs = loader.load()"
   ]
  },
  {
   "cell_type": "code",
   "execution_count": 42,
   "id": "44a45c7a-5050-4b11-997b-13a72eb78526",
   "metadata": {},
   "outputs": [],
   "source": [
    "# Text splitting\n",
    "text_splitter = RecursiveCharacterTextSplitter(\n",
    "    chunk_size=1000,  # chunk size (characters)\n",
    "    chunk_overlap=200,  # chunk overlap (characters)\n",
    "    add_start_index=True,  # track index in original document\n",
    ")\n",
    "all_splits = text_splitter.split_documents(docs)"
   ]
  },
  {
   "cell_type": "code",
   "execution_count": 43,
   "id": "601b04f0-f241-4dfa-9877-864c7f44bef3",
   "metadata": {},
   "outputs": [],
   "source": [
    "# Storing documents\n",
    "document_ids = vector_store.add_documents(documents=all_splits)"
   ]
  },
  {
   "cell_type": "markdown",
   "id": "80349158-de62-4f53-8733-102304f806d3",
   "metadata": {},
   "source": [
    "INICIO DO RETRIEVAL E GENERATION"
   ]
  },
  {
   "cell_type": "code",
   "execution_count": 44,
   "id": "f73a7927-d6b1-4654-9d81-d3f447136507",
   "metadata": {},
   "outputs": [],
   "source": [
    "# prompt\n",
    "# fazer teste em txt\n",
    "template = \"\"\"Você é um especialista em análise de relatórios de mamografia. Por favor, leia o relatório quando indicado e extraia as seguintes informações:\n",
    "Cisto:\n",
    "- Presente ou Ausente\n",
    "- Localização e tamanho do cisto\n",
    "Nódulo:\n",
    "- Presente ou Ausente\n",
    "- Localização e tamanho do nódulo\n",
    "Calcificação:\n",
    "- Presente ou Ausente\n",
    "- Localização e tamanho da calcificação\n",
    "Microcalcificação:\n",
    "- Presente ou Ausente\n",
    "- Localização e tamanho da microcalcificação\n",
    "BI-RADS: [valor]\n",
    "Outras citações a avaliar: [observações adicionais relevantes]\n",
    "\n",
    "Caso não encontre alguma informação que se encaixe, coloque [sem referência no texto].\n",
    "\n",
    "Diretrizes de Interpretação\n",
    "\n",
    "Diferenciação entre Nódulo e Cisto:\n",
    "\n",
    "Se um achado é identificado inicialmente como \"nódulo\" na mamografia, mas confirmado como \"cisto\" no ultrassom, classifique apenas como CISTO (presente).\n",
    "Nódulos são estruturas sólidas; cistos são estruturas predominantemente líquidas.\n",
    "Complexos sólido-císticos devem ser reportados em ambas categorias (nódulo E cisto).\n",
    "\n",
    "\n",
    "Priorização de Achados Múltiplos:\n",
    "\n",
    "Quando houver múltiplos cistos/nódulos, reporte TODOS, priorizando:\n",
    "a) Achados classificados como suspeitos pelo relatório\n",
    "b) Achados de maior tamanho\n",
    "c) Achados com características atípicas mencionadas\n",
    "\n",
    "\n",
    "Diferenciação entre Calcificações e Microcalcificações:\n",
    "\n",
    "Calcificações: estruturas maiores, geralmente descritas como \"grosseiras\", \"distróficas\", \"vasculares\"\n",
    "Microcalcificações: estruturas menores, frequentemente descritas como \"puntiformes\", \"pleomórficas\", \"lineares\", \"agrupadas\", \"em cluster\"\n",
    "Se o relatório mencionar \"microcalcificações\", classifique especificamente como microcalcificações\n",
    "Se mencionar apenas \"calcificações\", classifique como calcificações.\n",
    "\n",
    "{context}\n",
    "\n",
    "Question: {question}\n",
    "\n",
    "Helpful Answer:\"\"\"\n",
    "custom_rag_prompt = PromptTemplate.from_template(template)"
   ]
  },
  {
   "cell_type": "code",
   "execution_count": 45,
   "id": "754230c01b5fb7d4",
   "metadata": {},
   "outputs": [],
   "source": [
    "# estado para o langgraph\n",
    "class State(NamedTuple):\n",
    "    question: str\n",
    "    context: Tuple[Document, ...]\n",
    "    answer: str"
   ]
  },
  {
   "cell_type": "code",
   "execution_count": 49,
   "id": "f3ccb811c0b2d3c7",
   "metadata": {},
   "outputs": [],
   "source": [
    "# Funções do rag\n",
    "def retrieve(state: State):\n",
    "    retrieved_docs = vector_store.similarity_search(state.question)\n",
    "    return State(\n",
    "        question=state.question, \n",
    "        context=tuple(retrieved_docs), \n",
    "        answer=state.answer\n",
    "    )\n",
    "\n",
    "def generate(state: State):\n",
    "    docs_content = \"\\n\\n\".join(doc.page_content for doc in state.context)\n",
    "    messages = custom_rag_prompt.invoke({\"question\": state.question, \"context\": docs_content})\n",
    "    response = llm.invoke(messages)\n",
    "    return State(\n",
    "        question=state.question,\n",
    "        context=state.context,\n",
    "        answer=response.content\n",
    "    )"
   ]
  },
  {
   "cell_type": "code",
   "execution_count": 50,
   "id": "c3ae2304570507f4",
   "metadata": {},
   "outputs": [],
   "source": [
    "# langgraph\n",
    "graph_builder = StateGraph(State).add_sequence([retrieve, generate])\n",
    "graph_builder.add_edge(START, \"retrieve\")\n",
    "graph = graph_builder.compile()"
   ]
  },
  {
   "cell_type": "code",
   "execution_count": 53,
   "id": "f593be6c-44f5-474c-b515-a2466e871e02",
   "metadata": {},
   "outputs": [
    {
     "name": "stdout",
     "output_type": "stream",
     "text": [
      "### Extração das Características do Exame Mamográfico\n",
      "\n",
      "**Cisto:**\n",
      "- **Presente ou Ausente:** Presente\n",
      "- **Localização e tamanho do cisto:** Cisto oleoso na mama esquerda (tamanho não especificado)\n",
      "\n",
      "**Nódulo:**\n",
      "- **Presente ou Ausente:** Presente\n",
      "- **Localização e tamanho do nódulo:** Nódulo denso de contornos espiculados projetado no quadrante súpero-externo (QSE) da mama esquerda (tamanho não especificado)\n",
      "\n",
      "**Calcificação:**\n",
      "- **Presente ou Ausente:** Presente\n",
      "- **Localização e tamanho da calcificação:** Calcificações esparsas (localização e tamanho não especificados)\n",
      "\n",
      "**Microcalcificação:**\n",
      "- **Presente ou Ausente:** Ausente\n",
      "- **Localização e tamanho da microcalcificação:** [sem referência no texto]\n",
      "\n",
      "**BI-RADS:** 5\n",
      "\n",
      "**Outras citações a avaliar:**\n",
      "- Alterações arquiteturais relacionadas à mamoplastia.\n",
      "- Retração cutânea associada ao nódulo.\n",
      "- Implante bilateral, sem sinais de roturas extracapsulares.\n",
      "- Linfonodo axilar de aspecto reacional.\n",
      "- Status pós cirurgia conservadora da mama esquerda.\n"
     ]
    }
   ],
   "source": [
    "state_inicial = State(\n",
    "    question=\"\"\"Faça a extração das característica do seguinte exame mamográfico.\n",
    "\n",
    "MAMOGRAFIA DIGITAL DR* BILATERAL\n",
    "\n",
    "Indicação clínica: 69 anos. Rotina. Antecedente de neoplasia mamária.\n",
    "\n",
    "Exame com MAMÓGRAFO DIGITAL nas incidências craniocaudal e mediolateral oblíqua acrescido de incidências em ambas projeções obtidas com manobras de deslocamento posterior dos implantes mamários.\n",
    "\n",
    "Status pós cirurgia conservadora da mama esquerda.\n",
    "Parênquima mamário heterogeneamente denso, o que reduz a sensibilidade da mamografia.\n",
    "Alterações arquiteturais, relacionadas à mamoplastia.\n",
    "Nódulo denso de contornos espiculados projetado no QSE da mama esquerda, associado a retração cutânea,\n",
    "com correspondência ao ultrassom, maior em relação ao exame de 01/2024. Prosseguir com core biopsy.\n",
    "Cisto oleoso na mama esquerda.\n",
    "Calcificações esparsas.\n",
    "Ausência de microcalcificações pleomórficas agrupadas ou ramificadas.\n",
    "Implante bilateral, sem sinais de roturas extracapsulares.\n",
    "Linfonodo axilar, de aspecto reacional.\n",
    "\n",
    "ACR-BIRADS® categoria 5.\"\"\",\n",
    "    context=tuple([]),\n",
    "    answer=\" \"\n",
    ")\n",
    "\n",
    "response = graph.invoke(state_inicial)\n",
    "print(response[\"answer\"])"
   ]
  },
  {
   "cell_type": "code",
   "execution_count": 54,
   "id": "17c8b959-750d-4e32-af93-77c4bd64cdcd",
   "metadata": {},
   "outputs": [
    {
     "name": "stdout",
     "output_type": "stream",
     "text": [
      "Context: (Document(id='7837dcb1-c133-44b4-ab25-ff8fa4b8e61e', metadata={'producer': 'Microsoft® Word 2013', 'creator': 'Microsoft® Word 2013', 'creationdate': '2025-06-28T19:39:27-03:00', 'author': 'Hanna Reckziegel', 'moddate': '2025-06-28T19:39:27-03:00', 'source': 'RAG_exames\\\\laudo_2_extraido.pdf', 'total_pages': 1, 'page': 0, 'page_label': '1', 'start_index': 0}, page_content='MAMOGRAFIA DIGITAL (DR) E ECOGRAFIA MAMÁRIA \\nMamas simétricas constituídas predominantemente por tecido fibroglandular. \\nAusência de microcalcificações suspeitas nas mamas. \\nNo presente exame não há evidência de imagem com aspecto de nódulo ou \\ncisto nas mamas. \\nNão se observa imagem sugestiva de neoplasia. \\nLinfonodos localizados nos prolongamentos axilares das mamas. \\nA comparação com o exame anterior datado de 16.01.2017 demonstra não ter \\ncorrido alteração significativa. \\n \\nBIRADS - 1 (exame normais). \\n \\nEXTRAÇÃO: \\n \\nCisto:  \\n- Presente ou Ausente: ausente \\n- Localização do cisto e tamanho do cisto: [sem referência no texto] \\n \\n \\nNódulo: \\n- Presente ou Ausente: ausente \\n- Localização e tamanho do nódulo: [sem referência no texto] \\n \\nCalcificação: \\n- Presente ou Ausente: ausente \\n- Localização e tamanho da calcificação: [sem referência no texto] \\n \\nMicrocalcificação: \\n- Presente ou Ausente: ausente \\n- Localização e localização da microcalcificação: [sem referência no texto]'), Document(id='679c06ba-bfac-4960-a51a-8a87f20752ea', metadata={'producer': 'Microsoft® Word 2013', 'creator': 'Microsoft® Word 2013', 'creationdate': '2025-06-28T19:52:38-03:00', 'author': 'Hanna Reckziegel', 'moddate': '2025-06-28T19:52:38-03:00', 'source': 'RAG_exames\\\\laudo_5_extraido.pdf', 'total_pages': 2, 'page': 0, 'page_label': '1', 'start_index': 0}, page_content='MAMOGRAFIA DIGITAL \\n \\nCorpos mamários predominantemente lipossubstituídos. \\nNo quadrante súpero-lateral da mama direita, existe densidade nodular, de \\ncontornos parcialmente indistintos, medindo cerca de 1,2 cm, a esclarecer. \\nNão há evidência de microcalcificações suspeitas. \\nLinfonodos de aspecto anatômico no prolongamento axilar esquerdo. \\nNão dispomos de exames mamográficos anteriores para correlação. \\n \\nIMPRESSÃO DIAGNÓSTICA: Categoria 0 (zero). \\n \\nFazer correlação com ecografia mamária. \\n \\nECOGRAFIA MAMÁRIA \\n \\nCorpos mamários apresentam estrutura fibroglandular com distribuição e \\necogenicidade usuais. \\nNo quadrante súpero-lateral da mama direita, observa-se nódulo sólido, \\nfortemente hipossônico, irregular e com margens microlobuladas, medindo até \\n2,0 cm no maior eixo e distando cerca de 2,5 cm da papila. \\nNão se identifica nódulo sólido na mama esquerda. \\nExame correlacionado com mamografia de 05/09/2023, onde media cerca de \\n1,2 cm. \\n \\nComentário:'), Document(id='01a95beb-fd4d-47e5-bb6e-c4f1aeea5166', metadata={'producer': 'Microsoft® Word 2013', 'creator': 'Microsoft® Word 2013', 'creationdate': '2025-06-28T20:20:54-03:00', 'author': 'Hanna Reckziegel', 'moddate': '2025-06-28T20:20:54-03:00', 'source': 'RAG_exames\\\\laudo_11_extraido.pdf', 'total_pages': 1, 'page': 0, 'page_label': '1', 'start_index': 0}, page_content='MAMOGRAFIA DIGITAL BILATERAL \\nResumo clínico: rastreamento. \\nEstudo comparativo com mamografia prévia de 06/11/2023 e interpretação em \\nconjunto com ultrassom atual. \\nAs mamas são heterogeneamente densas, o que pode obscurecer pequenos \\nnódulos. \\nCalcificações de aspecto benigno em ambas as glândulas mamárias. \\nNão se observam nódulos ou microcalcificações suspeitos. \\nPresença de linfonodos nas regiões axilares. \\n \\nObservação: Nevus cutâneo na mama direita identificado com marcador \\nmetálico \\n \\nIMPRESSÃO: \\nAchados mamográficos benignos. \\nBI-RADS 2. \\n \\nEXTRAÇÃO: \\n \\nCisto:  \\n- Presente ou Ausente: ausente \\n- Localização do cisto e tamanho do cisto: [sem referência no texto] \\n \\nNódulo: \\n- Presente ou Ausente: ausente \\n- Localização e tamanho do nódulo: [sem referência no texto] \\n \\nCalcificação: \\n- Presente ou Ausente: presente \\n- Localização e tamanho da calcificação: [sem referência no texto] \\n \\nMicrocalcificação: \\n- Presente ou Ausente: ausente'), Document(id='0ba9b88d-5bde-48a0-934e-2f073018c236', metadata={'producer': 'Microsoft® Word 2013', 'creator': 'Microsoft® Word 2013', 'creationdate': '2025-06-28T20:27:09-03:00', 'author': 'Hanna Reckziegel', 'moddate': '2025-06-28T20:27:09-03:00', 'source': 'RAG_exames\\\\laudo_13_extraido.pdf', 'total_pages': 2, 'page': 0, 'page_label': '1', 'start_index': 0}, page_content='MAMOGRAFIA E ULTRASSONOGRAFIA MAMÁRIA E AXILAR BILATERAL \\nMOTIVO DO EXAME: \\n \\n- Rotina; \\n- Biopsia de nódulo RRA mama DIREITA em 2022 (AP: ectasia ductal cística). \\nNÚMERO DE INCIDÊNCIAS: \\n- O exame de mamografia consiste de 4 incidências. \\nCOMENTÁRIOS: \\n- Parênquima mamário heterogeneamente denso, aspecto que reduz a \\nsensibilidade da mamografia; \\n- Calcificações bilaterais com características de benignidade; \\n- Ao estudo ultrassonográfico, observo imagem cística com conteúdo denso em \\nseu interior, medindo cerca de 2,0 cm em RRA da mama esquerda. mais \\nprovavelmente relacionada a cisto complicado, não podendo descartar \\ncomplexo sólido cístico no estudo atual; \\n- Área hipoecogênica heterogênea, irregular. medindo cerca de 2,4 cm às 12h \\njustareolar da mama direita, que pode estar relacionado a ectasia ductal, porém \\napresenta discreta distorção arquitetural; \\n- Cistos simples e de conteúdo denso esparsos bilateralmente medindo até 1,2 \\ncm; \\n- Linfonodos axilares de aspecto usual;'))\n",
      "\n",
      "\n"
     ]
    }
   ],
   "source": [
    "# langraph acompanhando o que o RAG usou de documentos\n",
    "print(f'Context: {response[\"context\"]}\\n\\n')"
   ]
  },
  {
   "cell_type": "code",
   "execution_count": null,
   "id": "b1456a24-c80b-4180-9d32-adf8bb92f567",
   "metadata": {},
   "outputs": [],
   "source": [
    "for step in graph.stream(\n",
    "    {\"question\": \"\"\"Faça a extração das característica do seguinte exame mamográfico.\n",
    "\n",
    "MAMOGRAFIA DIGITAL DR* BILATERAL\n",
    "\n",
    "Indicação clínica: 69 anos. Rotina. Antecedente de neoplasia mamária.\n",
    "\n",
    "Exame com MAMÓGRAFO DIGITAL nas incidências craniocaudal e mediolateral oblíqua acrescido de incidências em ambas projeções obtidas com manobras de deslocamento posterior dos implantes mamários.\n",
    "\n",
    "Status pós cirurgia conservadora da mama esquerda.\n",
    "Parênquima mamário heterogeneamente denso, o que reduz a sensibilidade da mamografia.\n",
    "Alterações arquiteturais, relacionadas à mamoplastia.\n",
    "Nódulo denso de contornos espiculados projetado no QSE da mama esquerda, associado a retração cutânea,\n",
    "com correspondência ao ultrassom, maior em relação ao exame de 01/2024. Prosseguir com core biopsy.\n",
    "Cisto oleoso na mama esquerda.\n",
    "Calcificações esparsas.\n",
    "Ausência de microcalcificações pleomórficas agrupadas ou ramificadas.\n",
    "Implante bilateral, sem sinais de roturas extracapsulares.\n",
    "Linfonodo axilar, de aspecto reacional.\n",
    "\n",
    "ACR-BIRADS® categoria 5.\"\"\"}, stream_mode=\"updates\"\n",
    "):\n",
    "    print(f\"{step}\\n\\n----------------\\n\")"
   ]
  }
 ],
 "metadata": {
  "kernelspec": {
   "display_name": "Python 3 (ipykernel)",
   "language": "python",
   "name": "python3"
  },
  "language_info": {
   "codemirror_mode": {
    "name": "ipython",
    "version": 3
   },
   "file_extension": ".py",
   "mimetype": "text/x-python",
   "name": "python",
   "nbconvert_exporter": "python",
   "pygments_lexer": "ipython3",
   "version": "3.13.2"
  }
 },
 "nbformat": 4,
 "nbformat_minor": 5
}
